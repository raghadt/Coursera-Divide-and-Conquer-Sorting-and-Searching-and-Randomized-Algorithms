{
 "cells": [
  {
   "cell_type": "code",
   "execution_count": 48,
   "metadata": {},
   "outputs": [],
   "source": [
    "n=3141592653589793238462643383279502884197169399375105820974944592\n",
    "m=2718281828459045235360287471352662497757247093699959574966967627"
   ]
  },
  {
   "cell_type": "code",
   "execution_count": 49,
   "metadata": {},
   "outputs": [],
   "source": [
    "def karatsuba(n,m):\n",
    "    \n",
    "    a_len = int(len(str(n))/2)\n",
    "    b_len = int(len(str(n)))\n",
    "    \n",
    "\n",
    "    a = int(str(n)[:a_len])\n",
    "    b = int(str(n)[a_len:b_len])\n",
    "    \n",
    "    \n",
    "    c_len = int(len(str(m))/2)\n",
    "    d_len = int(len(str(m)))\n",
    "\n",
    "    c = int(str(m)[:c_len])\n",
    "    d = int(str(m)[c_len:d_len])\n",
    "    \n",
    "    s_1 = a*c\n",
    "    s_2 = b*d\n",
    "    s_3 = (a+b)*(c+d)\n",
    "    s_4 = s_3 - s_1 - s_2\n",
    "\n",
    "    s_5 = ( 10**b_len * s_1) + (10**a_len * s_4) + s_2\n",
    "    print(s_5)"
   ]
  },
  {
   "cell_type": "code",
   "execution_count": 50,
   "metadata": {},
   "outputs": [
    {
     "name": "stdout",
     "output_type": "stream",
     "text": [
      "8539734222673567065463550869546574495034888535765114961879601127067743044893204848617875072216249073013374895871952806582723184\n"
     ]
    }
   ],
   "source": [
    "karatsuba(n,m)"
   ]
  },
  {
   "cell_type": "code",
   "execution_count": null,
   "metadata": {},
   "outputs": [],
   "source": []
  }
 ],
 "metadata": {
  "kernelspec": {
   "display_name": "Python 3",
   "language": "python",
   "name": "python3"
  },
  "language_info": {
   "codemirror_mode": {
    "name": "ipython",
    "version": 3
   },
   "file_extension": ".py",
   "mimetype": "text/x-python",
   "name": "python",
   "nbconvert_exporter": "python",
   "pygments_lexer": "ipython3",
   "version": "3.7.4"
  }
 },
 "nbformat": 4,
 "nbformat_minor": 4
}
